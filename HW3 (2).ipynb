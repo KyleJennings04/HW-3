{
 "cells": [
  {
   "cell_type": "markdown",
   "metadata": {},
   "source": [
    "# Intro to Data Science - Solution to Homework 3 - Spring 2025 - Wilmington College\n"
   ]
  },
  {
   "cell_type": "markdown",
   "metadata": {},
   "source": [
    "## **Top World's Companies Dataset**\n",
    "You can download the dataset from Kaggle via [this link](https://www.kaggle.com/datasets/bhavikjikadara/top-worlds-companies/data). In case of any issues, I have also provided the dataset on my GitHub under the HW folder named `\"companies.csv\"`.\n",
    "\n",
    "Here is the explanation from Kaggle:\n",
    "\n",
    "This dataset contains information on 10,000 different companies sourced from Ambition Box, a platform that provides insights into company reviews, ratings, salaries, interviews, and more. The dataset includes the following columns:\n",
    "\n",
    "- **Company_name**: The name of the company.\n",
    "- **Description**: A brief description of the company.\n",
    "- **Ratings**: The overall rating of the company.\n",
    "- **Highly_rated_for**: Areas of the company that are highly rated.\n",
    "- **Critically_rated_for**: Areas of the company that are critically rated.\n",
    "- **Total_reviews**: The total number of reviews.\n",
    "- **Avg_salary**: The average salary reported for the company.\n",
    "- **Interviews_taken**: The number of interviews conducted.\n",
    "- **Total_jobs_available**: The total number of job positions available.\n",
    "- **Total_benefits**: Information on benefits offered."
   ]
  },
  {
   "cell_type": "markdown",
   "metadata": {},
   "source": [
    "## **1. Data Loading and Exploration:**\n",
    "- **a.** Load the dataset into a pandas DataFrame and display the first 5 rows.\n",
    "- **b.** Identify and count the number of missing values in each column. Calculate the percentage of missing values for each column.\n",
    "- **c.** Rename columns as follows:\n",
    "  - Rename `\"Company_name\"` to `\"Company_Name\"`\n",
    "  - Rename `\"Avg_salary\"` to `\"Average_Salary\"`\n",
    "  - Rename `\"Total_reviews\"` to `\"Total_Reviews\"`\n",
    "  - Rename `\"Total_jobs_available\"` to `\"Total_Jobs_Available\"`\n",
    "  - Rename `\"Total_benefits\"` to `\"Total_Benefits\"`\n",
    "  - Display the first 5 rows after renaming.\n",
    "- **d.** Convert the `\"Ratings\"` column to a numeric type, ensuring any errors are handled gracefully (e.g., replacing non-numeric values with NaN).\n",
    "- **e.** Extract the top 10 companies based on `\"Total_Reviews\"` and visualize them using a bar chart.\n",
    "- **f.** Compute the correlation matrix for numeric columns. Which variables seem most correlated?"
   ]
  },
  {
   "cell_type": "code",
   "execution_count": null,
   "metadata": {},
   "outputs": [],
   "source": [
    "#     **Solution**\n",
    "# Type your solution here.\n",
    "\n"
   ]
  },
  {
   "cell_type": "markdown",
   "metadata": {},
   "source": [
    "## **2. Data Analysis and Statistics:**\n",
    "- **a.** Compute the mean, median, and standard deviation of company ratings.\n",
    "- **b.** Find the company with the highest `\"Total_Reviews\"`. What percentage of total reviews in the dataset does this company have?\n",
    "- **c.** Calculate the proportion of companies that have reported an average salary.\n",
    "- **d.** Determine the interquartile range (IQR) and median of `\"Interviews_taken\"`. Identify and count any extreme outliers (values below Q1 - 1.5 * IQR or above Q3 + 1.5 * IQR).\n",
    "- **e.** Identify the top 5 companies with the most job positions available.\n",
    "- **f.** Find the top 5 most frequently mentioned aspects in the `\"Highly_rated_for\"` column.\n",
    "- **g.** Compute the percentage of companies that offer `\"Total_Benefits\"`.\n",
    "- **h.** Perform **discretization and binning** on `\"Average_Salary\"`, categorizing salaries into four bins: `\"Low\"`, `\"Below Average\"`, `\"Above Average\"`, `\"High\"`. Calculate the percentage of companies in each category.\n",
    "- **i.** **Outlier Detection & Removal:** Detect and remove outliers from the `\"Average_Salary\"` column using the IQR method. \n",
    "- **j.** Compute the z-score for `\"Total_Reviews\"` and `\"Total_Jobs_Available\"`, identifying any companies with z-scores above 3 or below -3. These are extreme cases—should they be removed?\n",
    "\n"
   ]
  },
  {
   "cell_type": "code",
   "execution_count": null,
   "metadata": {},
   "outputs": [],
   "source": [
    "#     **Solution**\n",
    "# Type your solution here.\n",
    "\n"
   ]
  },
  {
   "cell_type": "markdown",
   "metadata": {},
   "source": [
    "## **3. Data Cleaning and Manipulation:**\n",
    "- **a.** Write a function to clean the `\"Description\"` column by:\n",
    "  - Removing special characters.\n",
    "  - Converting text to lowercase.\n",
    "  - Removing stopwords such as `\"the\"`, `\"and\"`, `\"of\"`, etc.\n",
    "- **b.** Create a function `filter_missing_salary_data()` that removes companies with missing salary data.\n",
    "- **c.** Implement a function `handle_missing_data()` to:\n",
    "  - Replace missing values in `\"Total_Benefits\"` with the **median** value.\n",
    "  - Remove duplicate rows based on `\"Company_Name\"`.\n",
    "  - Replace `\"--\"` (or `\"NA\"`) values in `\"Highly_rated_for\"` and `\"Critically_rated_for\"` with `\"Not specified\"`.\n",
    "- **d.** Create a binary indicator variable `\"Offers_Benefits\"` (1 if the company provides benefits, 0 otherwise)."
   ]
  },
  {
   "cell_type": "code",
   "execution_count": null,
   "metadata": {},
   "outputs": [],
   "source": [
    "#     **Solution**\n",
    "# Type your solution here.\n",
    "\n",
    "\n"
   ]
  },
  {
   "cell_type": "markdown",
   "metadata": {},
   "source": [
    "\n",
    "## **4. Advanced Data Exploration:**\n",
    "- **a.** Write a function to determine whether companies with a higher rating (above median) tend to offer more benefits. Use a bar plot to visualize the trend.\n",
    "- **b.** Find the top **10 companies** with the highest `\"Ratings\"` but the lowest `\"Total_Reviews\"`. What insights can you infer from this?\n",
    "- **c.** Calculate the **average number of jobs available** for companies in each `\"Highly_rated_for\"` category. Which category has the most jobs?"
   ]
  },
  {
   "cell_type": "code",
   "execution_count": null,
   "metadata": {},
   "outputs": [],
   "source": [
    "#     **Solution**\n",
    "# Type your solution here.\n",
    "\n",
    "\n"
   ]
  },
  {
   "cell_type": "markdown",
   "metadata": {},
   "source": [
    "## **5. Sampling and Randomness:**\n",
    "- **a.** Implement a **permutation-based** random sampling function to select 20 companies.\n",
    "- **b.** Implement **stratified sampling** based on `\"Ratings\"` (e.g., ensuring each rating category is proportionally represented)."
   ]
  },
  {
   "cell_type": "code",
   "execution_count": null,
   "metadata": {},
   "outputs": [],
   "source": [
    "#     **Solution**\n",
    "# Type your solution here.\n"
   ]
  }
 ],
 "metadata": {
  "kernelspec": {
   "display_name": "Python 3",
   "language": "python",
   "name": "python3"
  },
  "language_info": {
   "codemirror_mode": {
    "name": "ipython",
    "version": 3
   },
   "file_extension": ".py",
   "mimetype": "text/x-python",
   "name": "python",
   "nbconvert_exporter": "python",
   "pygments_lexer": "ipython3",
   "version": "3.12.1"
  }
 },
 "nbformat": 4,
 "nbformat_minor": 2
}
